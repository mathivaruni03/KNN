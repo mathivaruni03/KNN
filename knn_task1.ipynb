{
 "cells": [
  {
   "cell_type": "code",
   "execution_count": 1,
   "id": "4f98f031-3093-42ec-8ed8-c9e5b1021113",
   "metadata": {},
   "outputs": [
    {
     "name": "stdout",
     "output_type": "stream",
     "text": [
      "      Metric Predicted Class\n",
      "0  Euclidean          Normal\n",
      "1  Manhattan          Normal\n",
      "2  Minkowski          Normal\n"
     ]
    },
    {
     "name": "stderr",
     "output_type": "stream",
     "text": [
      "D:\\Users\\sf22\\AppData\\Local\\anaconda3\\Lib\\site-packages\\sklearn\\base.py:493: UserWarning: X does not have valid feature names, but KNeighborsClassifier was fitted with feature names\n",
      "  warnings.warn(\n",
      "D:\\Users\\sf22\\AppData\\Local\\anaconda3\\Lib\\site-packages\\sklearn\\base.py:493: UserWarning: X does not have valid feature names, but KNeighborsClassifier was fitted with feature names\n",
      "  warnings.warn(\n",
      "D:\\Users\\sf22\\AppData\\Local\\anaconda3\\Lib\\site-packages\\sklearn\\base.py:493: UserWarning: X does not have valid feature names, but KNeighborsClassifier was fitted with feature names\n",
      "  warnings.warn(\n"
     ]
    }
   ],
   "source": [
    "import numpy as np\n",
    "\n",
    "import pandas as pd\n",
    "\n",
    "from sklearn.neighbors import KNeighborsClassifier\n",
    "\n",
    "from sklearn.preprocessing import LabelEncoder\n",
    "data = {\n",
    "\n",
    "    'Weight': [51, 62, 69, 64, 65, 56, 58, 57, 55],\n",
    "\n",
    "    'Height': [167, 182, 176, 173, 172, 174, 169, 173, 170],\n",
    "\n",
    "    'Class': ['Underweight', 'Normal', 'Normal', 'Normal', 'Normal', 'Underweight', 'Normal', 'Normal', 'Normal']\n",
    "\n",
    "}\n",
    "df = pd.DataFrame(data)\n",
    "\n",
    "# Encode class labels\n",
    "\n",
    "le = LabelEncoder()\n",
    "\n",
    "df['Class'] = le.fit_transform(df['Class'])  # Underweight = 1, Normal = 0\n",
    "\n",
    "# Feature & target\n",
    "\n",
    "X = df[['Weight', 'Height']]\n",
    "\n",
    "y = df['Class']\n",
    "\n",
    "# New data point to classify\n",
    "\n",
    "new_point = np.array([[57, 170]])\n",
    "\n",
    "\n",
    "\n",
    "# Function to train KNN with different distance metrics\n",
    "\n",
    "def classify_with_knn(k, metric):\n",
    "\n",
    "    model = KNeighborsClassifier(n_neighbors=k, metric=metric)\n",
    "\n",
    "    model.fit(X, y)\n",
    "\n",
    "    prediction = model.predict(new_point)\n",
    "\n",
    "    return le.inverse_transform(prediction)[0]\n",
    "\n",
    "\n",
    "\n",
    "# Test with different distance metrics\n",
    "\n",
    "k_value = 3  # Choosing K = 3\n",
    "\n",
    "results = {\n",
    "\n",
    "    'Metric': ['Euclidean', 'Manhattan', 'Minkowski'],\n",
    "\n",
    "    'Predicted Class': [\n",
    "\n",
    "        classify_with_knn(k_value, 'euclidean'),\n",
    "\n",
    "        classify_with_knn(k_value, 'manhattan'),\n",
    "\n",
    "        classify_with_knn(k_value, 'minkowski')\n",
    "\n",
    "    ]\n",
    "\n",
    "}\n",
    "\n",
    "# Convert results to DataFrame and display\n",
    "\n",
    "results_df = pd.DataFrame(results)\n",
    "\n",
    "print(results_df)\n"
   ]
  },
  {
   "cell_type": "code",
   "execution_count": null,
   "id": "e845a7b0-f4ee-4500-b6ed-ff5be5343808",
   "metadata": {},
   "outputs": [],
   "source": []
  }
 ],
 "metadata": {
  "kernelspec": {
   "display_name": "Python [conda env:base] *",
   "language": "python",
   "name": "conda-base-py"
  },
  "language_info": {
   "codemirror_mode": {
    "name": "ipython",
    "version": 3
   },
   "file_extension": ".py",
   "mimetype": "text/x-python",
   "name": "python",
   "nbconvert_exporter": "python",
   "pygments_lexer": "ipython3",
   "version": "3.12.7"
  }
 },
 "nbformat": 4,
 "nbformat_minor": 5
}
